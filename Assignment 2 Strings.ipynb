{
 "cells": [
  {
   "cell_type": "code",
   "execution_count": 38,
   "id": "0facf72d-94be-4a3f-8c78-47ff5521a555",
   "metadata": {},
   "outputs": [
    {
     "name": "stdout",
     "output_type": "stream",
     "text": [
      "TorvalLB\n",
      "Lieei1969\n",
      "TuringAM\n",
      "Alahs5346\n",
      "WozniaSG\n",
      "Stay3720\n",
      "GoldbeAG\n",
      "Ad2345\n",
      "implesay\n",
      "riendsfay\n",
      "meletoay\n",
      "nsioay\n"
     ]
    }
   ],
   "source": [
    "#The user name should consist of the first 6 letters of their last name, the first letter of  their first name, and the first letter of their middle name. The password should be the first 2 letters of their first name, the first 3 (human) even letters of their middle name (as many as possible), and the last 4 numbers of their parent’s phone number. Be certain to print the student’s user name and password to the terminal.\n",
    "\n",
    "First_Name1 = 'Linus'\n",
    "First_Name2 = 'Alan'\n",
    "First_Name3 = 'Stephan' \n",
    "First_Name4 = 'Adele' \n",
    "\n",
    "Middle_Name1 = 'Benedict'\n",
    "Middle_Name2 = 'Mathison' \n",
    "Middle_Name3 = 'Gary' \n",
    "\n",
    "Last_Name1 = 'Torvalds'\n",
    "Last_Name2 = 'Turing'\n",
    "Last_Name3 = 'Wozniak'\n",
    "Last_Name4 = 'Goldberg'\n",
    "\n",
    "Phone_Number1 = '(317)-555-1969'\n",
    "Phone_Number2 = '(317)-555-5346'\n",
    "Phone_Number3 = '(317)-555-3720'\n",
    "Phone_Number4 = '(317)-555-2345'\n",
    "\n",
    "Username = Last_Name1[0:6] + First_Name1[0] + Middle_Name1[0]\n",
    "print(Username)\n",
    "Password = First_Name1[0:2] + Middle_Name1[1:6:2] + Phone_Number1[10:14]\n",
    "print(Password)\n",
    "\n",
    "Username = Last_Name2[0:6] + First_Name2[0] + Middle_Name2[0]\n",
    "print(Username)\n",
    "Password = First_Name2[0:2] + Middle_Name2[1:6:2] + Phone_Number2[10:14]\n",
    "print(Password)\n",
    "\n",
    "Username = Last_Name3[0:6] + First_Name3[0] + Middle_Name3[0]\n",
    "print(Username)\n",
    "Password = First_Name3[0:2] + Middle_Name3[1:6:2] + Phone_Number3[10:14]\n",
    "print(Password)\n",
    "\n",
    "Username = Last_Name4[0:6] + First_Name4[0] + Middle_Name4[0]\n",
    "print(Username)\n",
    "Password = First_Name4[0:2] + Phone_Number4[10:14]\n",
    "print(Password)\n",
    "\n",
    "#Write a program that will take an English word as input, and output that word in Pig Latin. Print the Pig Latin word to the terminal.\n",
    "\n",
    "simple = 'simple'\n",
    "friends = 'friends'\n",
    "omelet = 'omelet'\n",
    "ions = 'ions'\n",
    "\n",
    "simple = simple[1:] + simple[0] + \"ay\"\n",
    "print(simple)\n",
    "\n",
    "friends = friends[1:] + friends[0] + \"ay\"\n",
    "print(friends)\n",
    "\n",
    "omelet = omelet[1:] + omelet[0] + \"ay\"\n",
    "print(omelet)\n",
    "\n",
    "ions = ions[2:] + ions[0:2] + \"ay\"\n",
    "print(ions)"
   ]
  },
  {
   "cell_type": "code",
   "execution_count": null,
   "id": "0e39e1cf-33a1-4f58-ab8c-d05d916db930",
   "metadata": {},
   "outputs": [],
   "source": []
  }
 ],
 "metadata": {
  "kernelspec": {
   "display_name": "Python 3 (ipykernel)",
   "language": "python",
   "name": "python3"
  },
  "language_info": {
   "codemirror_mode": {
    "name": "ipython",
    "version": 3
   },
   "file_extension": ".py",
   "mimetype": "text/x-python",
   "name": "python",
   "nbconvert_exporter": "python",
   "pygments_lexer": "ipython3",
   "version": "3.11.5"
  }
 },
 "nbformat": 4,
 "nbformat_minor": 5
}
